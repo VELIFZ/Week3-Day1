{
 "cells": [
  {
   "cell_type": "markdown",
   "id": "00edc162",
   "metadata": {},
   "source": [
    "### Exercise 1 - Turn the shopping cart program into an object-oriented program"
   ]
  },
  {
   "cell_type": "code",
   "execution_count": null,
   "id": "f484a46f",
   "metadata": {},
   "outputs": [],
   "source": [
    "# Create a class called cart that retains items and has methods to add, remove, and show\n",
    "\n",
    "class Cart():\n",
    "    def __init__ (self, shopping_cart):\n",
    "        self.sopping_cart = shopping_cart\n",
    "        shopping_cart = []\n",
    "        \n",
    "    def shop(self, item, quantity):\n",
    "        self.shopping_cart.append(item)\n",
    "        self.shopping_cart += quantity\n",
    "        \n",
    "    def view(self, item, quantity):\n",
    "        \n",
    "            \n",
    "    def remove(self, item):\n",
    "        self.shopping_cart.remove()\n",
    "        \n",
    "    def clear(self, item, price, quantitiy):\n",
    "        self.shopping_cart.clear()"
   ]
  },
  {
   "cell_type": "markdown",
   "id": "a4134672",
   "metadata": {},
   "source": [
    "### Exercise 2 - Write a Python class for an Animal that has a name and energy attributes. The animal class should also have methods for eat, sleep, and play that will take in an integer and increase/decrease the energy of the animal with a formatted print statement"
   ]
  },
  {
   "cell_type": "code",
   "execution_count": null,
   "id": "d7758662",
   "metadata": {},
   "outputs": [],
   "source": [
    "# Example 1\n",
    "# buddy = Animal('Buddy', 10)\n",
    "# buddy.play(5) -> \"Buddy is playing for 5 minutes. His energy is now 5\"\n",
    "# buddy.sleep(10) -> \"Buddy is sleeping for 10 minutes. His energy is now 15\""
   ]
  },
  {
   "cell_type": "code",
   "execution_count": 1,
   "id": "edffcd9f",
   "metadata": {},
   "outputs": [
    {
     "name": "stdout",
     "output_type": "stream",
     "text": [
      "Zambak ate a huge meal. Her energy increased to 30.\n",
      "After sleeping so long her energy level is 90. She needs to play!\n",
      "Zambak's energy level is 60. She needs to play more!\n"
     ]
    }
   ],
   "source": [
    "class Animal:\n",
    "    def __init__(self, name, energy):\n",
    "        self.name = name\n",
    "        self.energy = energy\n",
    "        \n",
    "    def eat(self, eat_energy_level):\n",
    "        self.energy += eat_energy_level\n",
    "        print(f'{self.name.title()} ate a huge meal. Her energy increased to {self.energy}.')\n",
    "   \n",
    "    def sleep(self, sleep_energy_level):\n",
    "        self.energy += sleep_energy_level\n",
    "        if self.energy >= 80:\n",
    "            print(f'After sleeping so long her energy level is {self.energy}. She needs to play!')\n",
    "        else:\n",
    "            print(f'{self.name.title()} slept for an hour. Her energy is now {self.energy}.')\n",
    "   \n",
    "    def play(self, play_energy_level):\n",
    "        self.energy -= play_energy_level\n",
    "        if self.energy >=50:\n",
    "            print(f\"{self.name.title()}'s energy level is {self.energy}. She needs to play more!\")\n",
    "        else:\n",
    "            print(f'{self.name.title()} played for 30 munites. Her energy is now {self.energy}.')\n",
    "    \n",
    "zambak = Animal('zambak', 10)\n",
    "zambak.eat(20)\n",
    "zambak.sleep(60)\n",
    "zambak.play(30)"
   ]
  },
  {
   "cell_type": "code",
   "execution_count": null,
   "id": "2c8b1eef",
   "metadata": {},
   "outputs": [],
   "source": []
  }
 ],
 "metadata": {
  "kernelspec": {
   "display_name": "Python 3",
   "language": "python",
   "name": "python3"
  },
  "language_info": {
   "codemirror_mode": {
    "name": "ipython",
    "version": 3
   },
   "file_extension": ".py",
   "mimetype": "text/x-python",
   "name": "python",
   "nbconvert_exporter": "python",
   "pygments_lexer": "ipython3",
   "version": "3.8.8"
  }
 },
 "nbformat": 4,
 "nbformat_minor": 5
}
